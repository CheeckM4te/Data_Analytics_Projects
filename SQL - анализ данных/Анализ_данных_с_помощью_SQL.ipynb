{
  "nbformat": 4,
  "nbformat_minor": 0,
  "metadata": {
    "colab": {
      "provenance": []
    },
    "kernelspec": {
      "name": "python3",
      "display_name": "Python 3"
    }
  },
  "cells": [
    {
      "cell_type": "markdown",
      "metadata": {
        "id": "pDrecLU-4QjS"
      },
      "source": [
        "# Анализ данных с помощью SQL"
      ]
    },
    {
      "cell_type": "markdown",
      "metadata": {
        "id": "-gNudGOQelvQ"
      },
      "source": [
        "* **Запросы расположены в порядке возрастания сложности (от простого к более сложным)**\n",
        "* **Cоздание и заполнение таблиц данными представлено в отдельном файле**\n",
        "* **Схема БД представлена в файле \"Readme.md\"**\n"
      ]
    },
    {
      "cell_type": "markdown",
      "metadata": {
        "id": "YpfanHWtOmtd"
      },
      "source": [
        "### 1. Для каждого сотрудника определить, какой процент по отношению к зарплате составляют его комиссионные.\n"
      ]
    },
    {
      "cell_type": "code",
      "metadata": {
        "id": "DF67i0FRYtGY"
      },
      "source": [
        "SELECT last_name,\n",
        "       Round(Coalesce(commission / salary, 0) * 100, 2) AS SHARE\n",
        "FROM   employee\n"
      ],
      "execution_count": null,
      "outputs": []
    },
    {
      "cell_type": "markdown",
      "metadata": {
        "id": "Llxm9I5AOn38"
      },
      "source": [
        "### 2. Вывести два инициала (с точками) и фамилии всех сотрудников\n"
      ]
    },
    {
      "cell_type": "code",
      "metadata": {
        "id": "5yGutrBTOohr"
      },
      "source": [
        "SELECT SUBSTR(first_name, 1, 1) || '.' AS I1,\n",
        "       middle_initial || '.' AS I2,\n",
        "       last_name\n",
        "FROM employee"
      ],
      "execution_count": null,
      "outputs": []
    },
    {
      "cell_type": "markdown",
      "metadata": {
        "id": "QrApqsiwOpCF"
      },
      "source": [
        "### 3. По каждой сделке вывести точную сумму сделки, сумму сделки, округленную в большую сторону и округленную в меньшую сторону,\n"
      ]
    },
    {
      "cell_type": "code",
      "metadata": {
        "colab": {
          "base_uri": "https://localhost:8080/",
          "height": 419
        },
        "id": "SH29w8e5BMIN",
        "outputId": "244199da-86bf-4189-e303-9d0c07286533"
      },
      "source": [
        "# Cумма сделки, округленная в большую сторону\n",
        "SELECT Order_ID,\n",
        "       CEILING (Total)\n",
        "FROM Sales_order"
      ],
      "execution_count": null,
      "outputs": [
        {
          "output_type": "execute_result",
          "data": {
            "text/html": [
              "<div>\n",
              "<style scoped>\n",
              "    .dataframe tbody tr th:only-of-type {\n",
              "        vertical-align: middle;\n",
              "    }\n",
              "\n",
              "    .dataframe tbody tr th {\n",
              "        vertical-align: top;\n",
              "    }\n",
              "\n",
              "    .dataframe thead th {\n",
              "        text-align: right;\n",
              "    }\n",
              "</style>\n",
              "<table border=\"1\" class=\"dataframe\">\n",
              "  <thead>\n",
              "    <tr style=\"text-align: right;\">\n",
              "      <th></th>\n",
              "      <th>order_id</th>\n",
              "      <th>ceiling</th>\n",
              "    </tr>\n",
              "  </thead>\n",
              "  <tbody>\n",
              "    <tr>\n",
              "      <th>0</th>\n",
              "      <td>610</td>\n",
              "      <td>102.0</td>\n",
              "    </tr>\n",
              "    <tr>\n",
              "      <th>1</th>\n",
              "      <td>611</td>\n",
              "      <td>45.0</td>\n",
              "    </tr>\n",
              "    <tr>\n",
              "      <th>2</th>\n",
              "      <td>612</td>\n",
              "      <td>5860.0</td>\n",
              "    </tr>\n",
              "    <tr>\n",
              "      <th>3</th>\n",
              "      <td>601</td>\n",
              "      <td>61.0</td>\n",
              "    </tr>\n",
              "    <tr>\n",
              "      <th>4</th>\n",
              "      <td>602</td>\n",
              "      <td>56.0</td>\n",
              "    </tr>\n",
              "    <tr>\n",
              "      <th>...</th>\n",
              "      <td>...</td>\n",
              "      <td>...</td>\n",
              "    </tr>\n",
              "    <tr>\n",
              "      <th>95</th>\n",
              "      <td>530</td>\n",
              "      <td>3027.0</td>\n",
              "    </tr>\n",
              "    <tr>\n",
              "      <th>96</th>\n",
              "      <td>545</td>\n",
              "      <td>475.0</td>\n",
              "    </tr>\n",
              "    <tr>\n",
              "      <th>97</th>\n",
              "      <td>557</td>\n",
              "      <td>2462.0</td>\n",
              "    </tr>\n",
              "    <tr>\n",
              "      <th>98</th>\n",
              "      <td>546</td>\n",
              "      <td>3663.0</td>\n",
              "    </tr>\n",
              "    <tr>\n",
              "      <th>99</th>\n",
              "      <td>510</td>\n",
              "      <td>1337.0</td>\n",
              "    </tr>\n",
              "  </tbody>\n",
              "</table>\n",
              "<p>100 rows × 2 columns</p>\n",
              "</div>"
            ],
            "text/plain": [
              "    order_id  ceiling\n",
              "0        610    102.0\n",
              "1        611     45.0\n",
              "2        612   5860.0\n",
              "3        601     61.0\n",
              "4        602     56.0\n",
              "..       ...      ...\n",
              "95       530   3027.0\n",
              "96       545    475.0\n",
              "97       557   2462.0\n",
              "98       546   3663.0\n",
              "99       510   1337.0\n",
              "\n",
              "[100 rows x 2 columns]"
            ]
          },
          "metadata": {
            "tags": []
          },
          "execution_count": 20
        }
      ]
    },
    {
      "cell_type": "code",
      "metadata": {
        "colab": {
          "base_uri": "https://localhost:8080/",
          "height": 419
        },
        "id": "lh2w0vXBBWYX",
        "outputId": "2fe639ea-f002-40f7-890f-5917f14447f9"
      },
      "source": [
        "# Cумма сделки, округленная в меньшую сторону\n",
        "SELECT Order_ID,\n",
        "       FLOOR (Total)\n",
        "FROM Sales_order"
      ],
      "execution_count": null,
      "outputs": [
        {
          "output_type": "execute_result",
          "data": {
            "text/html": [
              "<div>\n",
              "<style scoped>\n",
              "    .dataframe tbody tr th:only-of-type {\n",
              "        vertical-align: middle;\n",
              "    }\n",
              "\n",
              "    .dataframe tbody tr th {\n",
              "        vertical-align: top;\n",
              "    }\n",
              "\n",
              "    .dataframe thead th {\n",
              "        text-align: right;\n",
              "    }\n",
              "</style>\n",
              "<table border=\"1\" class=\"dataframe\">\n",
              "  <thead>\n",
              "    <tr style=\"text-align: right;\">\n",
              "      <th></th>\n",
              "      <th>order_id</th>\n",
              "      <th>floor</th>\n",
              "    </tr>\n",
              "  </thead>\n",
              "  <tbody>\n",
              "    <tr>\n",
              "      <th>0</th>\n",
              "      <td>610</td>\n",
              "      <td>101.0</td>\n",
              "    </tr>\n",
              "    <tr>\n",
              "      <th>1</th>\n",
              "      <td>611</td>\n",
              "      <td>45.0</td>\n",
              "    </tr>\n",
              "    <tr>\n",
              "      <th>2</th>\n",
              "      <td>612</td>\n",
              "      <td>5860.0</td>\n",
              "    </tr>\n",
              "    <tr>\n",
              "      <th>3</th>\n",
              "      <td>601</td>\n",
              "      <td>60.0</td>\n",
              "    </tr>\n",
              "    <tr>\n",
              "      <th>4</th>\n",
              "      <td>602</td>\n",
              "      <td>56.0</td>\n",
              "    </tr>\n",
              "    <tr>\n",
              "      <th>...</th>\n",
              "      <td>...</td>\n",
              "      <td>...</td>\n",
              "    </tr>\n",
              "    <tr>\n",
              "      <th>95</th>\n",
              "      <td>530</td>\n",
              "      <td>3026.0</td>\n",
              "    </tr>\n",
              "    <tr>\n",
              "      <th>96</th>\n",
              "      <td>545</td>\n",
              "      <td>475.0</td>\n",
              "    </tr>\n",
              "    <tr>\n",
              "      <th>97</th>\n",
              "      <td>557</td>\n",
              "      <td>2461.0</td>\n",
              "    </tr>\n",
              "    <tr>\n",
              "      <th>98</th>\n",
              "      <td>546</td>\n",
              "      <td>3663.0</td>\n",
              "    </tr>\n",
              "    <tr>\n",
              "      <th>99</th>\n",
              "      <td>510</td>\n",
              "      <td>1336.0</td>\n",
              "    </tr>\n",
              "  </tbody>\n",
              "</table>\n",
              "<p>100 rows × 2 columns</p>\n",
              "</div>"
            ],
            "text/plain": [
              "    order_id   floor\n",
              "0        610   101.0\n",
              "1        611    45.0\n",
              "2        612  5860.0\n",
              "3        601    60.0\n",
              "4        602    56.0\n",
              "..       ...     ...\n",
              "95       530  3026.0\n",
              "96       545   475.0\n",
              "97       557  2461.0\n",
              "98       546  3663.0\n",
              "99       510  1336.0\n",
              "\n",
              "[100 rows x 2 columns]"
            ]
          },
          "metadata": {
            "tags": []
          },
          "execution_count": 21
        }
      ]
    },
    {
      "cell_type": "markdown",
      "metadata": {
        "id": "nXN5hFG6OqU8"
      },
      "source": [
        "### 4. Выбрать фамилии всех сотрудников, фамилии которых начинаются на букву 'S'.\n"
      ]
    },
    {
      "cell_type": "code",
      "metadata": {
        "id": "jBNTdkvVOqqa",
        "colab": {
          "base_uri": "https://localhost:8080/",
          "height": 173
        },
        "outputId": "2f377181-f016-4b8c-a7d6-b8066b26da11"
      },
      "source": [
        "SELECT  last_name\n",
        "FROM employee\n",
        "WHERE SUBSTR (last_name, 1, 1) = 's'"
      ],
      "execution_count": null,
      "outputs": [
        {
          "output_type": "execute_result",
          "data": {
            "text/html": [
              "<div>\n",
              "<style scoped>\n",
              "    .dataframe tbody tr th:only-of-type {\n",
              "        vertical-align: middle;\n",
              "    }\n",
              "\n",
              "    .dataframe tbody tr th {\n",
              "        vertical-align: top;\n",
              "    }\n",
              "\n",
              "    .dataframe thead th {\n",
              "        text-align: right;\n",
              "    }\n",
              "</style>\n",
              "<table border=\"1\" class=\"dataframe\">\n",
              "  <thead>\n",
              "    <tr style=\"text-align: right;\">\n",
              "      <th></th>\n",
              "      <th>last_name</th>\n",
              "    </tr>\n",
              "  </thead>\n",
              "  <tbody>\n",
              "    <tr>\n",
              "      <th>0</th>\n",
              "      <td>smith</td>\n",
              "    </tr>\n",
              "    <tr>\n",
              "      <th>1</th>\n",
              "      <td>shaw</td>\n",
              "    </tr>\n",
              "    <tr>\n",
              "      <th>2</th>\n",
              "      <td>sommers</td>\n",
              "    </tr>\n",
              "    <tr>\n",
              "      <th>3</th>\n",
              "      <td>scott</td>\n",
              "    </tr>\n",
              "  </tbody>\n",
              "</table>\n",
              "</div>"
            ],
            "text/plain": [
              "  last_name\n",
              "0     smith\n",
              "1      shaw\n",
              "2   sommers\n",
              "3     scott"
            ]
          },
          "metadata": {
            "tags": []
          },
          "execution_count": 27
        }
      ]
    },
    {
      "cell_type": "markdown",
      "metadata": {
        "id": "wtnxTlSZQD6X"
      },
      "source": [
        "### 5. Выбрать всех сотрудников, имена которых состоят из 6 букв и начинаются на 'MAR'.\n"
      ]
    },
    {
      "cell_type": "code",
      "metadata": {
        "id": "1R-kdu57QkCt",
        "colab": {
          "base_uri": "https://localhost:8080/",
          "height": 80
        },
        "outputId": "dbe4c99e-1551-4781-b65e-77566df5fd1d"
      },
      "source": [
        "SELECT  first_name, last_name\n",
        "FROM employee\n",
        "WHERE LENGTH (first_name) = 6 and SUBSTR (first_name, 1, 3) = 'mar'"
      ],
      "execution_count": null,
      "outputs": [
        {
          "output_type": "execute_result",
          "data": {
            "text/html": [
              "<div>\n",
              "<style scoped>\n",
              "    .dataframe tbody tr th:only-of-type {\n",
              "        vertical-align: middle;\n",
              "    }\n",
              "\n",
              "    .dataframe tbody tr th {\n",
              "        vertical-align: top;\n",
              "    }\n",
              "\n",
              "    .dataframe thead th {\n",
              "        text-align: right;\n",
              "    }\n",
              "</style>\n",
              "<table border=\"1\" class=\"dataframe\">\n",
              "  <thead>\n",
              "    <tr style=\"text-align: right;\">\n",
              "      <th></th>\n",
              "      <th>first_name</th>\n",
              "      <th>last_name</th>\n",
              "    </tr>\n",
              "  </thead>\n",
              "  <tbody>\n",
              "    <tr>\n",
              "      <th>0</th>\n",
              "      <td>marion</td>\n",
              "      <td>blake</td>\n",
              "    </tr>\n",
              "  </tbody>\n",
              "</table>\n",
              "</div>"
            ],
            "text/plain": [
              "  first_name last_name\n",
              "0     marion     blake"
            ]
          },
          "metadata": {
            "tags": []
          },
          "execution_count": 39
        }
      ]
    },
    {
      "cell_type": "markdown",
      "metadata": {
        "id": "BHmBMkP0RBMu"
      },
      "source": [
        "### 6. Для каждого сотрудника выбрать количество полных лет работы в фирме.\n"
      ]
    },
    {
      "cell_type": "code",
      "metadata": {
        "id": "Me2JJtGIRD6o"
      },
      "source": [
        "SELECT last_name, DATE_PART('day', (CURRENT_DATE - Hire_Date) / 365.25 )  AS Data\n",
        "FROM employee"
      ],
      "execution_count": null,
      "outputs": []
    },
    {
      "cell_type": "markdown",
      "metadata": {
        "id": "gUnxATPRREfR"
      },
      "source": [
        "### 7. Выбрать количество сотрудников, получающих комиссионные. Если сотрудник получает 0 комиссионных, то это тоже считается. Не считаются только NULL.\n"
      ]
    },
    {
      "cell_type": "code",
      "metadata": {
        "id": "tK1LhWpWRFTk",
        "colab": {
          "base_uri": "https://localhost:8080/",
          "height": 80
        },
        "outputId": "3a0fdf69-b8ed-4837-cf76-5a1d8eb5d42d"
      },
      "source": [
        "SELECT count (employee_id)\n",
        "FROM   employee\n",
        "WHERE  commission IS NOT NULL"
      ],
      "execution_count": null,
      "outputs": [
        {
          "output_type": "execute_result",
          "data": {
            "text/html": [
              "<div>\n",
              "<style scoped>\n",
              "    .dataframe tbody tr th:only-of-type {\n",
              "        vertical-align: middle;\n",
              "    }\n",
              "\n",
              "    .dataframe tbody tr th {\n",
              "        vertical-align: top;\n",
              "    }\n",
              "\n",
              "    .dataframe thead th {\n",
              "        text-align: right;\n",
              "    }\n",
              "</style>\n",
              "<table border=\"1\" class=\"dataframe\">\n",
              "  <thead>\n",
              "    <tr style=\"text-align: right;\">\n",
              "      <th></th>\n",
              "      <th>count</th>\n",
              "    </tr>\n",
              "  </thead>\n",
              "  <tbody>\n",
              "    <tr>\n",
              "      <th>0</th>\n",
              "      <td>10</td>\n",
              "    </tr>\n",
              "  </tbody>\n",
              "</table>\n",
              "</div>"
            ],
            "text/plain": [
              "   count\n",
              "0     10"
            ]
          },
          "metadata": {
            "tags": []
          },
          "execution_count": 59
        }
      ]
    },
    {
      "cell_type": "markdown",
      "metadata": {
        "id": "V4xKEpN3Rnhb"
      },
      "source": [
        "### 8. Выбрать средние зарплаты продавцов (код должности - 670) и клерков (код должности - 667).\n"
      ]
    },
    {
      "cell_type": "code",
      "metadata": {
        "id": "_D4mVHuIRoKD"
      },
      "source": [
        "SELECT Job_id, avg(salary)\n",
        "FROM   employee\n",
        "GROUP BY  Job_ID\n",
        "Having Job_ID =  670 or Job_ID =  667"
      ],
      "execution_count": null,
      "outputs": []
    },
    {
      "cell_type": "markdown",
      "metadata": {
        "id": "8Aa4GAZ2RoaK"
      },
      "source": [
        "### 9. Выбрать коды продуктов, по которым было совершено меньше 10 продаж.\n",
        "\n",
        "\n"
      ]
    },
    {
      "cell_type": "code",
      "metadata": {
        "id": "aRqV5_8lRsDD"
      },
      "source": [
        "SELECT product_id, COUNT(order_id) AS count_of_sales\n",
        "FROM item\n",
        "GROUP BY product_id\n",
        "HAVING COUNT(order_id)<10"
      ],
      "execution_count": null,
      "outputs": []
    },
    {
      "cell_type": "markdown",
      "metadata": {
        "id": "IM_TgtEcRxf8"
      },
      "source": [
        "### 10. Выбрать максимальную зарплату продавцов (код должности - 670) по каждому отделу.\n"
      ]
    },
    {
      "cell_type": "code",
      "metadata": {
        "id": "fy2wLrpdR1Xs",
        "colab": {
          "base_uri": "https://localhost:8080/",
          "height": 173
        },
        "outputId": "280ea8d1-5268-4ead-a035-4164fa52f4ed"
      },
      "source": [
        "SELECT department_id, max(salary)\n",
        "FROM   employee\n",
        "WHERE Job_ID =  670\n",
        "GROUP BY  department_id"
      ],
      "execution_count": null,
      "outputs": [
        {
          "output_type": "execute_result",
          "data": {
            "text/html": [
              "<div>\n",
              "<style scoped>\n",
              "    .dataframe tbody tr th:only-of-type {\n",
              "        vertical-align: middle;\n",
              "    }\n",
              "\n",
              "    .dataframe tbody tr th {\n",
              "        vertical-align: top;\n",
              "    }\n",
              "\n",
              "    .dataframe thead th {\n",
              "        text-align: right;\n",
              "    }\n",
              "</style>\n",
              "<table border=\"1\" class=\"dataframe\">\n",
              "  <thead>\n",
              "    <tr style=\"text-align: right;\">\n",
              "      <th></th>\n",
              "      <th>max</th>\n",
              "      <th>department_id</th>\n",
              "    </tr>\n",
              "  </thead>\n",
              "  <tbody>\n",
              "    <tr>\n",
              "      <th>0</th>\n",
              "      <td>1600.0</td>\n",
              "      <td>30</td>\n",
              "    </tr>\n",
              "    <tr>\n",
              "      <th>1</th>\n",
              "      <td>1250.0</td>\n",
              "      <td>13</td>\n",
              "    </tr>\n",
              "    <tr>\n",
              "      <th>2</th>\n",
              "      <td>1300.0</td>\n",
              "      <td>43</td>\n",
              "    </tr>\n",
              "    <tr>\n",
              "      <th>3</th>\n",
              "      <td>1500.0</td>\n",
              "      <td>23</td>\n",
              "    </tr>\n",
              "  </tbody>\n",
              "</table>\n",
              "</div>"
            ],
            "text/plain": [
              "      max  department_id\n",
              "0  1600.0             30\n",
              "1  1250.0             13\n",
              "2  1300.0             43\n",
              "3  1500.0             23"
            ]
          },
          "metadata": {
            "tags": []
          },
          "execution_count": 99
        }
      ]
    },
    {
      "cell_type": "markdown",
      "metadata": {
        "id": "7Cg8_625eIfx"
      },
      "source": [
        "### 11. Выбрать всю информацию о каждом отделе и месте его расположения.\n"
      ]
    },
    {
      "cell_type": "code",
      "metadata": {
        "id": "ecUVtCmxhMsU"
      },
      "source": [
        "SELECT\n",
        "  department_id,\n",
        "  name,\n",
        "  department.location_id,\n",
        "  location.regional_group\n",
        "FROM\n",
        "  department\n",
        "  JOIN\n",
        "  location\n",
        "  ON department.location_id = location.location_id"
      ],
      "execution_count": null,
      "outputs": []
    },
    {
      "cell_type": "markdown",
      "metadata": {
        "id": "H5GT9VpJctev"
      },
      "source": [
        "### 12. Выбрать список фамилий сотрудников по городам, где они работают, с указанием для каждого его должности.\n"
      ]
    },
    {
      "cell_type": "code",
      "metadata": {
        "id": "pzTzX6pJhQFB"
      },
      "source": [
        "SELECT\n",
        "  last_name,\n",
        "  job.function,\n",
        "  location.regional_group\n",
        "FROM\n",
        "  employee\n",
        "  JOIN\n",
        "  job\n",
        "  ON employee.job_id = job.job_id\n",
        "  JOIN\n",
        "  department\n",
        "  ON employee.department_id = department.department_id\n",
        "  JOIN\n",
        "  location\n",
        "  ON department.location_id = location.location_id"
      ],
      "execution_count": null,
      "outputs": []
    },
    {
      "cell_type": "markdown",
      "metadata": {
        "id": "XEkNb0JYcsB8"
      },
      "source": [
        "### 13. Выбрать всех покупателей, с которыми работает продавец TURNER.\n",
        ""
      ]
    },
    {
      "cell_type": "code",
      "metadata": {
        "id": "-qbd7oSLhRUN",
        "colab": {
          "base_uri": "https://localhost:8080/",
          "height": 142
        },
        "outputId": "e890aa3c-2790-4b33-d592-ee99c5074cad"
      },
      "source": [
        "SELECT\n",
        "  name\n",
        "FROM\n",
        "  customer\n",
        "WHERE salesperson_id IN (SELECT employee_id FROM employee WHERE last_name = 'turner')"
      ],
      "execution_count": null,
      "outputs": [
        {
          "output_type": "execute_result",
          "data": {
            "text/html": [
              "<div>\n",
              "<style scoped>\n",
              "    .dataframe tbody tr th:only-of-type {\n",
              "        vertical-align: middle;\n",
              "    }\n",
              "\n",
              "    .dataframe tbody tr th {\n",
              "        vertical-align: top;\n",
              "    }\n",
              "\n",
              "    .dataframe thead th {\n",
              "        text-align: right;\n",
              "    }\n",
              "</style>\n",
              "<table border=\"1\" class=\"dataframe\">\n",
              "  <thead>\n",
              "    <tr style=\"text-align: right;\">\n",
              "      <th></th>\n",
              "      <th>name</th>\n",
              "    </tr>\n",
              "  </thead>\n",
              "  <tbody>\n",
              "    <tr>\n",
              "      <th>0</th>\n",
              "      <td>jocksports</td>\n",
              "    </tr>\n",
              "    <tr>\n",
              "      <th>1</th>\n",
              "      <td>k + t sports</td>\n",
              "    </tr>\n",
              "    <tr>\n",
              "      <th>2</th>\n",
              "      <td>north woods health and fitness supply center</td>\n",
              "    </tr>\n",
              "  </tbody>\n",
              "</table>\n",
              "</div>"
            ],
            "text/plain": [
              "                                           name\n",
              "0                                    jocksports\n",
              "1                                  k + t sports\n",
              "2  north woods health and fitness supply center"
            ]
          },
          "metadata": {
            "tags": []
          },
          "execution_count": 26
        }
      ]
    },
    {
      "cell_type": "markdown",
      "metadata": {
        "id": "Om9jhh70cqkr"
      },
      "source": [
        "### 14. Выбрать сотрудников, которые не закреплены за конкретным заказчиком.\n"
      ]
    },
    {
      "cell_type": "code",
      "metadata": {
        "id": "GsF1GCYahT1w"
      },
      "source": [
        "SELECT\n",
        "  first_name,\n",
        "  last_name\n",
        "FROM\n",
        "  employee\n",
        "  left JOIN\n",
        "  customer\n",
        "  ON employee.employee_id = customer.salesperson_id\n",
        "WHERE customer_id is null"
      ],
      "execution_count": null,
      "outputs": []
    },
    {
      "cell_type": "markdown",
      "metadata": {
        "id": "u9Y3E_MzeIf0"
      },
      "source": [
        "### 15. Выбрать имена продавцов, которые работают более чем с одним покупателем и названия покупателей, которых они обслуживают.\n"
      ]
    },
    {
      "cell_type": "code",
      "metadata": {
        "id": "BkkkvGMOhV0e"
      },
      "source": [
        "SELECT\n",
        "  first_name,\n",
        "  customer.name\n",
        "FROM\n",
        "  employee\n",
        "  JOIN\n",
        "  customer\n",
        "  ON employee.employee_id = customer.salesperson_id\n",
        "  WHERE salesperson_id IN (SELECT salesperson_id FROM customer GROUP BY salesperson_id HAVING count(name) >1 )"
      ],
      "execution_count": null,
      "outputs": []
    },
    {
      "cell_type": "markdown",
      "metadata": {
        "id": "MPXfEMvOeIf0"
      },
      "source": [
        "### 16. Выбрать сумму всех продаж, которые обеспечил продавец TURNER.\n"
      ]
    },
    {
      "cell_type": "code",
      "metadata": {
        "id": "QBYJxl3shXIL",
        "colab": {
          "base_uri": "https://localhost:8080/",
          "height": 80
        },
        "outputId": "e9e344a8-afa4-42b9-9782-528b22551727"
      },
      "source": [
        "SELECT\n",
        "  sum(total),\n",
        "  employee.last_name\n",
        "FROM\n",
        "  sales_order\n",
        "  JOIN\n",
        "  customer\n",
        "  ON sales_order.customer_id = customer.customer_id\n",
        "  JOIN\n",
        "  employee\n",
        "  ON customer.salesperson_id = employee.employee_id\n",
        "  WHERE last_name = 'turner'\n",
        "  group by last_name\n"
      ],
      "execution_count": null,
      "outputs": [
        {
          "output_type": "execute_result",
          "data": {
            "text/html": [
              "<div>\n",
              "<style scoped>\n",
              "    .dataframe tbody tr th:only-of-type {\n",
              "        vertical-align: middle;\n",
              "    }\n",
              "\n",
              "    .dataframe tbody tr th {\n",
              "        vertical-align: top;\n",
              "    }\n",
              "\n",
              "    .dataframe thead th {\n",
              "        text-align: right;\n",
              "    }\n",
              "</style>\n",
              "<table border=\"1\" class=\"dataframe\">\n",
              "  <thead>\n",
              "    <tr style=\"text-align: right;\">\n",
              "      <th></th>\n",
              "      <th>sum</th>\n",
              "      <th>last_name</th>\n",
              "    </tr>\n",
              "  </thead>\n",
              "  <tbody>\n",
              "    <tr>\n",
              "      <th>0</th>\n",
              "      <td>58055.9</td>\n",
              "      <td>turner</td>\n",
              "    </tr>\n",
              "  </tbody>\n",
              "</table>\n",
              "</div>"
            ],
            "text/plain": [
              "       sum last_name\n",
              "0  58055.9    turner"
            ]
          },
          "metadata": {
            "tags": []
          },
          "execution_count": 10
        }
      ]
    },
    {
      "cell_type": "markdown",
      "metadata": {
        "id": "_XNeFY6meIf1"
      },
      "source": [
        "### 17. Выбрать сумму всех продаж товаров, связанных с теннисом, за лето 1990г.\n"
      ]
    },
    {
      "cell_type": "code",
      "metadata": {
        "id": "GoQhaxHjeIf1",
        "colab": {
          "base_uri": "https://localhost:8080/",
          "height": 266
        },
        "outputId": "f132c026-81fd-4cb0-afa7-c115bac48117"
      },
      "source": [
        "SELECT\n",
        "  sum(item.total),\n",
        "  product.description\n",
        "FROM\n",
        "  sales_order\n",
        "  JOIN\n",
        "  item\n",
        "  ON sales_order.order_id = item.order_id\n",
        "  JOIN\n",
        "  product\n",
        "  ON item.product_id = product.product_id\n",
        "  WHERE product.description LIKE '%tennis%' AND order_date  BETWEEN '19900601' AND '19900831'\n",
        "  GROUP BY description\n"
      ],
      "execution_count": null,
      "outputs": [
        {
          "output_type": "execute_result",
          "data": {
            "text/html": [
              "<div>\n",
              "<style scoped>\n",
              "    .dataframe tbody tr th:only-of-type {\n",
              "        vertical-align: middle;\n",
              "    }\n",
              "\n",
              "    .dataframe tbody tr th {\n",
              "        vertical-align: top;\n",
              "    }\n",
              "\n",
              "    .dataframe thead th {\n",
              "        text-align: right;\n",
              "    }\n",
              "</style>\n",
              "<table border=\"1\" class=\"dataframe\">\n",
              "  <thead>\n",
              "    <tr style=\"text-align: right;\">\n",
              "      <th></th>\n",
              "      <th>sum</th>\n",
              "      <th>description</th>\n",
              "    </tr>\n",
              "  </thead>\n",
              "  <tbody>\n",
              "    <tr>\n",
              "      <th>0</th>\n",
              "      <td>1468.5</td>\n",
              "      <td>ace tennis balls-3 pack</td>\n",
              "    </tr>\n",
              "    <tr>\n",
              "      <th>1</th>\n",
              "      <td>16.8</td>\n",
              "      <td>ace tennis balls-6 pack</td>\n",
              "    </tr>\n",
              "    <tr>\n",
              "      <th>2</th>\n",
              "      <td>514.0</td>\n",
              "      <td>ace tennis net</td>\n",
              "    </tr>\n",
              "    <tr>\n",
              "      <th>3</th>\n",
              "      <td>608.0</td>\n",
              "      <td>ace tennis racket i</td>\n",
              "    </tr>\n",
              "    <tr>\n",
              "      <th>4</th>\n",
              "      <td>4624.0</td>\n",
              "      <td>ace tennis racket ii</td>\n",
              "    </tr>\n",
              "    <tr>\n",
              "      <th>5</th>\n",
              "      <td>37.4</td>\n",
              "      <td>rh: \"guide to tennis\"</td>\n",
              "    </tr>\n",
              "    <tr>\n",
              "      <th>6</th>\n",
              "      <td>1224.0</td>\n",
              "      <td>sp tennis racket</td>\n",
              "    </tr>\n",
              "  </tbody>\n",
              "</table>\n",
              "</div>"
            ],
            "text/plain": [
              "      sum              description\n",
              "0  1468.5  ace tennis balls-3 pack\n",
              "1    16.8  ace tennis balls-6 pack\n",
              "2   514.0           ace tennis net\n",
              "3   608.0      ace tennis racket i\n",
              "4  4624.0     ace tennis racket ii\n",
              "5    37.4    rh: \"guide to tennis\"\n",
              "6  1224.0         sp tennis racket"
            ]
          },
          "metadata": {
            "tags": []
          },
          "execution_count": 88
        }
      ]
    },
    {
      "cell_type": "markdown",
      "metadata": {
        "id": "lXJ8eN2IeIf1"
      },
      "source": [
        "### 18. Выбрать имена и зарплаты самого старого и самого молодого сотрудника фирмы. (\"Возраст\" сотрудника определяется по дате его поступления на работу в фирму).\n",
        ""
      ]
    },
    {
      "cell_type": "code",
      "metadata": {
        "id": "bOLhwCoIhY0G",
        "colab": {
          "base_uri": "https://localhost:8080/",
          "height": 111
        },
        "outputId": "9fc6f2d9-32cf-4ed2-f728-580cb200c4b7"
      },
      "source": [
        "SELECT\n",
        "    last_name,\n",
        "    salary,\n",
        "    hire_date\n",
        "FROM\n",
        "  employee\n",
        "  WHERE hire_date = (SELECT MAX(hire_date) FROM employee ) or hire_date = (SELECT MIN(hire_date) FROM employee )\n"
      ],
      "execution_count": null,
      "outputs": [
        {
          "output_type": "execute_result",
          "data": {
            "text/html": [
              "<div>\n",
              "<style scoped>\n",
              "    .dataframe tbody tr th:only-of-type {\n",
              "        vertical-align: middle;\n",
              "    }\n",
              "\n",
              "    .dataframe tbody tr th {\n",
              "        vertical-align: top;\n",
              "    }\n",
              "\n",
              "    .dataframe thead th {\n",
              "        text-align: right;\n",
              "    }\n",
              "</style>\n",
              "<table border=\"1\" class=\"dataframe\">\n",
              "  <thead>\n",
              "    <tr style=\"text-align: right;\">\n",
              "      <th></th>\n",
              "      <th>last_name</th>\n",
              "      <th>salary</th>\n",
              "      <th>hire_date</th>\n",
              "    </tr>\n",
              "  </thead>\n",
              "  <tbody>\n",
              "    <tr>\n",
              "      <th>0</th>\n",
              "      <td>smith</td>\n",
              "      <td>800.0</td>\n",
              "      <td>1984-12-17</td>\n",
              "    </tr>\n",
              "    <tr>\n",
              "      <th>1</th>\n",
              "      <td>murray</td>\n",
              "      <td>750.0</td>\n",
              "      <td>1987-01-16</td>\n",
              "    </tr>\n",
              "  </tbody>\n",
              "</table>\n",
              "</div>"
            ],
            "text/plain": [
              "  last_name  salary  hire_date\n",
              "0     smith   800.0 1984-12-17\n",
              "1    murray   750.0 1987-01-16"
            ]
          },
          "metadata": {
            "tags": []
          },
          "execution_count": 67
        }
      ]
    },
    {
      "cell_type": "markdown",
      "metadata": {
        "id": "CyZeRHb-eIf1"
      },
      "source": [
        "### 19. Для каждого продавца вывести разность между его зарплатой и средней зарплатой продавцов в фирме.\n"
      ]
    },
    {
      "cell_type": "code",
      "metadata": {
        "id": "LcWXPWxmeIf2",
        "colab": {
          "base_uri": "https://localhost:8080/",
          "height": 390
        },
        "outputId": "8f2ba2a0-57b9-4563-fb4f-c5570715a5b2"
      },
      "source": [
        "SELECT\n",
        "    employee_id,\n",
        "    job.function,\n",
        "    salary - (SELECT AVG(salary) as mean_salary FROM employee WHERE function = 'salesperson' AND employee.job_id = job.job_id) as difference\n",
        "FROM\n",
        "  employee\n",
        "    JOIN\n",
        "  job\n",
        "  ON employee.job_id = job.job_id\n",
        "  WHERE function = 'salesperson'\n"
      ],
      "execution_count": null,
      "outputs": [
        {
          "output_type": "execute_result",
          "data": {
            "text/html": [
              "<div>\n",
              "<style scoped>\n",
              "    .dataframe tbody tr th:only-of-type {\n",
              "        vertical-align: middle;\n",
              "    }\n",
              "\n",
              "    .dataframe tbody tr th {\n",
              "        vertical-align: top;\n",
              "    }\n",
              "\n",
              "    .dataframe thead th {\n",
              "        text-align: right;\n",
              "    }\n",
              "</style>\n",
              "<table border=\"1\" class=\"dataframe\">\n",
              "  <thead>\n",
              "    <tr style=\"text-align: right;\">\n",
              "      <th></th>\n",
              "      <th>employee_id</th>\n",
              "      <th>difference</th>\n",
              "    </tr>\n",
              "  </thead>\n",
              "  <tbody>\n",
              "    <tr>\n",
              "      <th>0</th>\n",
              "      <td>7499</td>\n",
              "      <td>268.181818</td>\n",
              "    </tr>\n",
              "    <tr>\n",
              "      <th>1</th>\n",
              "      <td>7521</td>\n",
              "      <td>-81.818182</td>\n",
              "    </tr>\n",
              "    <tr>\n",
              "      <th>2</th>\n",
              "      <td>7555</td>\n",
              "      <td>-81.818182</td>\n",
              "    </tr>\n",
              "    <tr>\n",
              "      <th>3</th>\n",
              "      <td>7557</td>\n",
              "      <td>-81.818182</td>\n",
              "    </tr>\n",
              "    <tr>\n",
              "      <th>4</th>\n",
              "      <td>7560</td>\n",
              "      <td>-81.818182</td>\n",
              "    </tr>\n",
              "    <tr>\n",
              "      <th>5</th>\n",
              "      <td>7564</td>\n",
              "      <td>-81.818182</td>\n",
              "    </tr>\n",
              "    <tr>\n",
              "      <th>6</th>\n",
              "      <td>7600</td>\n",
              "      <td>-81.818182</td>\n",
              "    </tr>\n",
              "    <tr>\n",
              "      <th>7</th>\n",
              "      <td>7654</td>\n",
              "      <td>-81.818182</td>\n",
              "    </tr>\n",
              "    <tr>\n",
              "      <th>8</th>\n",
              "      <td>7789</td>\n",
              "      <td>168.181818</td>\n",
              "    </tr>\n",
              "    <tr>\n",
              "      <th>9</th>\n",
              "      <td>7820</td>\n",
              "      <td>-31.818182</td>\n",
              "    </tr>\n",
              "    <tr>\n",
              "      <th>10</th>\n",
              "      <td>7844</td>\n",
              "      <td>168.181818</td>\n",
              "    </tr>\n",
              "  </tbody>\n",
              "</table>\n",
              "</div>"
            ],
            "text/plain": [
              "    employee_id  difference\n",
              "0          7499  268.181818\n",
              "1          7521  -81.818182\n",
              "2          7555  -81.818182\n",
              "3          7557  -81.818182\n",
              "4          7560  -81.818182\n",
              "5          7564  -81.818182\n",
              "6          7600  -81.818182\n",
              "7          7654  -81.818182\n",
              "8          7789  168.181818\n",
              "9          7820  -31.818182\n",
              "10         7844  168.181818"
            ]
          },
          "metadata": {
            "tags": []
          },
          "execution_count": 86
        }
      ]
    },
    {
      "cell_type": "markdown",
      "metadata": {
        "id": "Arqye_kGeIf2"
      },
      "source": [
        "### 20. Вывести имена, средние инициалы и фамилии всех однофамильцев.\n"
      ]
    },
    {
      "cell_type": "code",
      "metadata": {
        "id": "7pGiwqObeIf2",
        "colab": {
          "base_uri": "https://localhost:8080/",
          "height": 49
        },
        "outputId": "c2bbc3b7-9558-4de1-da4d-c1389962524b"
      },
      "source": [
        "SELECT first_name,\n",
        "  middle_initial,\n",
        "  last_name\n",
        "  FROM employee\n",
        "  WHERE last_name in( SELECT last_name from employee group by last_name having count(*) > 1)\n"
      ],
      "execution_count": null,
      "outputs": [
        {
          "output_type": "execute_result",
          "data": {
            "text/html": [
              "<div>\n",
              "<style scoped>\n",
              "    .dataframe tbody tr th:only-of-type {\n",
              "        vertical-align: middle;\n",
              "    }\n",
              "\n",
              "    .dataframe tbody tr th {\n",
              "        vertical-align: top;\n",
              "    }\n",
              "\n",
              "    .dataframe thead th {\n",
              "        text-align: right;\n",
              "    }\n",
              "</style>\n",
              "<table border=\"1\" class=\"dataframe\">\n",
              "  <thead>\n",
              "    <tr style=\"text-align: right;\">\n",
              "      <th></th>\n",
              "      <th>first_name</th>\n",
              "      <th>middle_initial</th>\n",
              "      <th>last_name</th>\n",
              "    </tr>\n",
              "  </thead>\n",
              "  <tbody>\n",
              "  </tbody>\n",
              "</table>\n",
              "</div>"
            ],
            "text/plain": [
              "Empty DataFrame\n",
              "Columns: [first_name, middle_initial, last_name]\n",
              "Index: []"
            ]
          },
          "metadata": {
            "tags": []
          },
          "execution_count": 89
        }
      ]
    },
    {
      "cell_type": "markdown",
      "metadata": {
        "id": "RjIuYydDeIf2"
      },
      "source": [
        "### 21. Для каждого отдела выбрать процент, который составляют сотрудники отдела от общего числа сотрудников фирмы, и процент, который составляет зарплата отдела от общей зарплаты фирмы.\n"
      ]
    },
    {
      "cell_type": "code",
      "metadata": {
        "id": "yWKDmHZOeIf3",
        "colab": {
          "base_uri": "https://localhost:8080/",
          "height": 359
        },
        "outputId": "9365a9b5-9aad-4b91-8f4a-12f15d66e231"
      },
      "source": [
        "SELECT CAST(COUNT(employee_id) AS FLOAT) / CAST((SELECT COUNT(employee_id)\n",
        "FROM employee) AS FLOAT) * 100 AS percent_of_employee,\n",
        "CAST (sum(salary) AS FLOAT) / CAST((SELECT sum(salary)\n",
        "FROM employee) AS FLOAT) * 100 AS percent_of_salary\n",
        "FROM employee\n",
        "GROUP BY department_id\n"
      ],
      "execution_count": null,
      "outputs": [
        {
          "output_type": "execute_result",
          "data": {
            "text/html": [
              "<div>\n",
              "<style scoped>\n",
              "    .dataframe tbody tr th:only-of-type {\n",
              "        vertical-align: middle;\n",
              "    }\n",
              "\n",
              "    .dataframe tbody tr th {\n",
              "        vertical-align: top;\n",
              "    }\n",
              "\n",
              "    .dataframe thead th {\n",
              "        text-align: right;\n",
              "    }\n",
              "</style>\n",
              "<table border=\"1\" class=\"dataframe\">\n",
              "  <thead>\n",
              "    <tr style=\"text-align: right;\">\n",
              "      <th></th>\n",
              "      <th>percent_of_employee</th>\n",
              "      <th>percent_of_salary</th>\n",
              "    </tr>\n",
              "  </thead>\n",
              "  <tbody>\n",
              "    <tr>\n",
              "      <th>0</th>\n",
              "      <td>3.125</td>\n",
              "      <td>3.047776</td>\n",
              "    </tr>\n",
              "    <tr>\n",
              "      <th>1</th>\n",
              "      <td>3.125</td>\n",
              "      <td>2.141680</td>\n",
              "    </tr>\n",
              "    <tr>\n",
              "      <th>2</th>\n",
              "      <td>9.375</td>\n",
              "      <td>14.415157</td>\n",
              "    </tr>\n",
              "    <tr>\n",
              "      <th>3</th>\n",
              "      <td>12.500</td>\n",
              "      <td>15.939044</td>\n",
              "    </tr>\n",
              "    <tr>\n",
              "      <th>4</th>\n",
              "      <td>3.125</td>\n",
              "      <td>2.965404</td>\n",
              "    </tr>\n",
              "    <tr>\n",
              "      <th>5</th>\n",
              "      <td>18.750</td>\n",
              "      <td>15.485997</td>\n",
              "    </tr>\n",
              "    <tr>\n",
              "      <th>6</th>\n",
              "      <td>3.125</td>\n",
              "      <td>3.624382</td>\n",
              "    </tr>\n",
              "    <tr>\n",
              "      <th>7</th>\n",
              "      <td>15.625</td>\n",
              "      <td>17.915980</td>\n",
              "    </tr>\n",
              "    <tr>\n",
              "      <th>8</th>\n",
              "      <td>15.625</td>\n",
              "      <td>12.108731</td>\n",
              "    </tr>\n",
              "    <tr>\n",
              "      <th>9</th>\n",
              "      <td>15.625</td>\n",
              "      <td>12.355848</td>\n",
              "    </tr>\n",
              "  </tbody>\n",
              "</table>\n",
              "</div>"
            ],
            "text/plain": [
              "   percent_of_employee  percent_of_salary\n",
              "0                3.125           3.047776\n",
              "1                3.125           2.141680\n",
              "2                9.375          14.415157\n",
              "3               12.500          15.939044\n",
              "4                3.125           2.965404\n",
              "5               18.750          15.485997\n",
              "6                3.125           3.624382\n",
              "7               15.625          17.915980\n",
              "8               15.625          12.108731\n",
              "9               15.625          12.355848"
            ]
          },
          "metadata": {
            "tags": []
          },
          "execution_count": 63
        }
      ]
    },
    {
      "cell_type": "markdown",
      "metadata": {
        "id": "aFjgIbdteIf3"
      },
      "source": [
        "### 22. Выбрать фамилии начальников тех отделов, которые имеют разветвленную структуру (т.е. тех начальников, у прямых подчиненных которых есть свои подчиненные)."
      ]
    },
    {
      "cell_type": "code",
      "metadata": {
        "id": "_OcqxAqIeIf4",
        "colab": {
          "base_uri": "https://localhost:8080/",
          "height": 142
        },
        "outputId": "8864d018-f9cb-4a8d-d1d0-ec2933181b34"
      },
      "source": [
        "SELECT\n",
        "    last_name\n",
        "  FROM\n",
        "    employee\n",
        "  WHERE employee_id in (SELECT manager_id FROM employee WHERE employee_id in (SELECT employee_id FROM employee WHERE employee_id in (SELECT manager_id FROM employee WHERE not employee_id is null) ) )\n"
      ],
      "execution_count": null,
      "outputs": [
        {
          "output_type": "execute_result",
          "data": {
            "text/html": [
              "<div>\n",
              "<style scoped>\n",
              "    .dataframe tbody tr th:only-of-type {\n",
              "        vertical-align: middle;\n",
              "    }\n",
              "\n",
              "    .dataframe tbody tr th {\n",
              "        vertical-align: top;\n",
              "    }\n",
              "\n",
              "    .dataframe thead th {\n",
              "        text-align: right;\n",
              "    }\n",
              "</style>\n",
              "<table border=\"1\" class=\"dataframe\">\n",
              "  <thead>\n",
              "    <tr style=\"text-align: right;\">\n",
              "      <th></th>\n",
              "      <th>last_name</th>\n",
              "    </tr>\n",
              "  </thead>\n",
              "  <tbody>\n",
              "    <tr>\n",
              "      <th>0</th>\n",
              "      <td>jones</td>\n",
              "    </tr>\n",
              "    <tr>\n",
              "      <th>1</th>\n",
              "      <td>alberts</td>\n",
              "    </tr>\n",
              "    <tr>\n",
              "      <th>2</th>\n",
              "      <td>king</td>\n",
              "    </tr>\n",
              "  </tbody>\n",
              "</table>\n",
              "</div>"
            ],
            "text/plain": [
              "  last_name\n",
              "0     jones\n",
              "1   alberts\n",
              "2      king"
            ]
          },
          "metadata": {
            "tags": []
          },
          "execution_count": 66
        }
      ]
    },
    {
      "cell_type": "markdown",
      "metadata": {
        "id": "F028nyJXeIf4"
      },
      "source": [
        "### 23. Выбрать названия отдела, заключившего сделки на самую большую сумму, и города, в котором он находится.\n"
      ]
    },
    {
      "cell_type": "code",
      "metadata": {
        "id": "iMVZbjCKeIf4",
        "colab": {
          "base_uri": "https://localhost:8080/",
          "height": 80
        },
        "outputId": "1ea2a1ef-bd73-411d-ed58-eaae8e029717"
      },
      "source": [
        "SELECT\n",
        "    department.name,\n",
        "    location.regional_group\n",
        "FROM\n",
        "  department\n",
        "  JOIN\n",
        "  location\n",
        "  ON department.location_id = location.location_id\n",
        "  JOIN\n",
        "  employee\n",
        "  ON department.department_id = employee.department_id\n",
        "  JOIN\n",
        "  customer\n",
        "  ON employee.employee_id = customer.salesperson_id\n",
        "  JOIN\n",
        "  sales_order\n",
        "  ON customer.customer_id = sales_order.customer_id\n",
        "  WHERE total = (SELECT MAX(total) FROM sales_order )\n"
      ],
      "execution_count": null,
      "outputs": [
        {
          "output_type": "execute_result",
          "data": {
            "text/html": [
              "<div>\n",
              "<style scoped>\n",
              "    .dataframe tbody tr th:only-of-type {\n",
              "        vertical-align: middle;\n",
              "    }\n",
              "\n",
              "    .dataframe tbody tr th {\n",
              "        vertical-align: top;\n",
              "    }\n",
              "\n",
              "    .dataframe thead th {\n",
              "        text-align: right;\n",
              "    }\n",
              "</style>\n",
              "<table border=\"1\" class=\"dataframe\">\n",
              "  <thead>\n",
              "    <tr style=\"text-align: right;\">\n",
              "      <th></th>\n",
              "      <th>name</th>\n",
              "      <th>regional_group</th>\n",
              "    </tr>\n",
              "  </thead>\n",
              "  <tbody>\n",
              "    <tr>\n",
              "      <th>0</th>\n",
              "      <td>sales</td>\n",
              "      <td>chicago</td>\n",
              "    </tr>\n",
              "  </tbody>\n",
              "</table>\n",
              "</div>"
            ],
            "text/plain": [
              "    name regional_group\n",
              "0  sales        chicago"
            ]
          },
          "metadata": {
            "tags": []
          },
          "execution_count": 22
        }
      ]
    },
    {
      "cell_type": "markdown",
      "metadata": {
        "id": "ZoCUMVSyeIf4"
      },
      "source": [
        "### 24. Выбрать название товара, дату продажи, цену продажи для всех случаев, когда товары продавались ниже, чем за 75% их объявленной цены.\n",
        "\n",
        "**Цена действует от price.start_date до price.end_date, причем если price.end_date IS NULL, то цена действует до сих пор**"
      ]
    },
    {
      "cell_type": "code",
      "metadata": {
        "id": "Fk7MWzkWeIf5",
        "colab": {
          "base_uri": "https://localhost:8080/",
          "height": 142
        },
        "outputId": "1b1784f4-32e4-4298-9067-87fb0b7d8a08"
      },
      "source": [
        "SELECT\n",
        "    list_price,\n",
        "    product.description as product_name,\n",
        "    item.actual_price,\n",
        "    sales_order.ship_date,\n",
        "    actual_price*100/list_price AS percent_of_price\n",
        "FROM\n",
        "    price\n",
        "  JOIN\n",
        "  product\n",
        "    ON price.product_id = product.product_id\n",
        "  JOIN\n",
        "  item\n",
        "    ON product.product_id = item.product_id\n",
        "  JOIN\n",
        "  sales_order\n",
        "    ON item.order_id = sales_order.order_id\n",
        "  WHERE ((order_date BETWEEN start_date AND end_date ) or (start_date <= order_date and end_date is null)) and actual_price*100/list_price < 75\n"
      ],
      "execution_count": null,
      "outputs": [
        {
          "output_type": "execute_result",
          "data": {
            "text/html": [
              "<div>\n",
              "<style scoped>\n",
              "    .dataframe tbody tr th:only-of-type {\n",
              "        vertical-align: middle;\n",
              "    }\n",
              "\n",
              "    .dataframe tbody tr th {\n",
              "        vertical-align: top;\n",
              "    }\n",
              "\n",
              "    .dataframe thead th {\n",
              "        text-align: right;\n",
              "    }\n",
              "</style>\n",
              "<table border=\"1\" class=\"dataframe\">\n",
              "  <thead>\n",
              "    <tr style=\"text-align: right;\">\n",
              "      <th></th>\n",
              "      <th>list_price</th>\n",
              "      <th>product_name</th>\n",
              "      <th>actual_price</th>\n",
              "      <th>ship_date</th>\n",
              "      <th>percent_of_price</th>\n",
              "    </tr>\n",
              "  </thead>\n",
              "  <tbody>\n",
              "    <tr>\n",
              "      <th>0</th>\n",
              "      <td>2.4</td>\n",
              "      <td>sb energy bar-6 pack</td>\n",
              "      <td>1.75</td>\n",
              "      <td>1991-02-13</td>\n",
              "      <td>72.916667</td>\n",
              "    </tr>\n",
              "    <tr>\n",
              "      <th>1</th>\n",
              "      <td>15.0</td>\n",
              "      <td>yellow jersey bicycle gloves</td>\n",
              "      <td>10.00</td>\n",
              "      <td>1990-09-07</td>\n",
              "      <td>66.666667</td>\n",
              "    </tr>\n",
              "    <tr>\n",
              "      <th>2</th>\n",
              "      <td>15.0</td>\n",
              "      <td>yellow jersey bicycle gloves</td>\n",
              "      <td>10.00</td>\n",
              "      <td>1991-03-07</td>\n",
              "      <td>66.666667</td>\n",
              "    </tr>\n",
              "  </tbody>\n",
              "</table>\n",
              "</div>"
            ],
            "text/plain": [
              "   list_price                  product_name  ...  ship_date percent_of_price\n",
              "0         2.4          sb energy bar-6 pack  ... 1991-02-13        72.916667\n",
              "1        15.0  yellow jersey bicycle gloves  ... 1990-09-07        66.666667\n",
              "2        15.0  yellow jersey bicycle gloves  ... 1991-03-07        66.666667\n",
              "\n",
              "[3 rows x 5 columns]"
            ]
          },
          "metadata": {
            "tags": []
          },
          "execution_count": 78
        }
      ]
    },
    {
      "cell_type": "markdown",
      "metadata": {
        "id": "4XpOnu_ceIf5"
      },
      "source": [
        "### 25. Выбрать общую сумму скидок, предоставленных покупателю STADIUM SPORTS в 1989г.\n",
        "\n",
        "**Скидка здесь это list_price*quantity-item.total**"
      ]
    },
    {
      "cell_type": "code",
      "metadata": {
        "id": "M18e_cPPeIf5",
        "colab": {
          "base_uri": "https://localhost:8080/",
          "height": 80
        },
        "outputId": "49fb8ba0-5f17-4ef7-e75a-ce1dd8a2044e"
      },
      "source": [
        "SELECT sum(list_price*item.quantity-item.total) AS discount\n",
        "FROM price\n",
        "JOIN product\n",
        "\tON price.product_id = product.product_id\n",
        "JOIN item\n",
        "\tON product.product_id = item.product_id\n",
        "JOIN sales_order\n",
        "\tON item.order_id = sales_order.order_id\n",
        "JOIN customer\n",
        "\tON sales_order.customer_id = customer.customer_id\n",
        "WHERE name LIKE '%stadium sports%' AND order_date BETWEEN '19890101' AND '19891231'\n",
        "AND (order_date>=start_date AND (order_date<end_date OR end_date IS NULL))\n"
      ],
      "execution_count": null,
      "outputs": [
        {
          "output_type": "execute_result",
          "data": {
            "text/html": [
              "<div>\n",
              "<style scoped>\n",
              "    .dataframe tbody tr th:only-of-type {\n",
              "        vertical-align: middle;\n",
              "    }\n",
              "\n",
              "    .dataframe tbody tr th {\n",
              "        vertical-align: top;\n",
              "    }\n",
              "\n",
              "    .dataframe thead th {\n",
              "        text-align: right;\n",
              "    }\n",
              "</style>\n",
              "<table border=\"1\" class=\"dataframe\">\n",
              "  <thead>\n",
              "    <tr style=\"text-align: right;\">\n",
              "      <th></th>\n",
              "      <th>discount</th>\n",
              "    </tr>\n",
              "  </thead>\n",
              "  <tbody>\n",
              "    <tr>\n",
              "      <th>0</th>\n",
              "      <td>356.9</td>\n",
              "    </tr>\n",
              "  </tbody>\n",
              "</table>\n",
              "</div>"
            ],
            "text/plain": [
              "   discount\n",
              "0     356.9"
            ]
          },
          "metadata": {
            "tags": []
          },
          "execution_count": 11
        }
      ]
    },
    {
      "cell_type": "markdown",
      "metadata": {
        "id": "3ZeNXKUxeIf5"
      },
      "source": [
        "### 26. Выбрать список сотрудников фирмы с указанием фамилии непосредственного начальника каждого.\n"
      ]
    },
    {
      "cell_type": "code",
      "metadata": {
        "id": "QGYpgxhYeIf6"
      },
      "source": [
        "SELECT worker.last_name AS worker,\n",
        "\t\t manager.last_name AS manager\n",
        "FROM employee worker, employee manager\n",
        "WHERE worker.manager_id = manager.employee_id\n"
      ],
      "execution_count": null,
      "outputs": []
    },
    {
      "cell_type": "markdown",
      "metadata": {
        "id": "-bPKAeQmeIf6"
      },
      "source": [
        "### 27. Для каждого сотрудника вывести разность между его зарплатой и средней зарплатой сотрудников, выполняющих те же функции.\n"
      ]
    },
    {
      "cell_type": "code",
      "metadata": {
        "id": "SuALlgoheIf6"
      },
      "source": [
        " SELECT last_name,\n",
        "\t\t salary - avg_sal AS avg_sl\n",
        "FROM employee,\n",
        "\t(SELECT job_id, avg(salary) AS avg_sal FROM employee GROUP BY  job_id) avg_slry\n",
        "WHERE employee.job_id = avg_slry.job_id"
      ],
      "execution_count": null,
      "outputs": []
    },
    {
      "cell_type": "markdown",
      "metadata": {
        "id": "1abVykszeIf7"
      },
      "source": [
        "### 28. Вывести таблицу распределения объема продаж товара DUNK BASKETBALL INDOOR по годам (объем продаж в деньгах).\n"
      ]
    },
    {
      "cell_type": "code",
      "metadata": {
        "id": "qht-y11oeIf7",
        "colab": {
          "base_uri": "https://localhost:8080/",
          "height": 142
        },
        "outputId": "f0311545-d1a2-404b-b623-7efcc0e7d79a"
      },
      "source": [
        "SELECT SUM(item.total) as volume_of_sales,\n",
        "\t\t EXTRACT(year FROM order_date) as year\n",
        "FROM sales_order\n",
        "JOIN item\n",
        "\tON sales_order.order_id = item.order_id\n",
        "JOIN product\n",
        "\tON item.product_id = product.product_id\n",
        "WHERE description = 'dunk basketball indoor'\n",
        "GROUP BY year\n",
        "ORDER BY  year asc\n"
      ],
      "execution_count": null,
      "outputs": [
        {
          "output_type": "execute_result",
          "data": {
            "text/html": [
              "<div>\n",
              "<style scoped>\n",
              "    .dataframe tbody tr th:only-of-type {\n",
              "        vertical-align: middle;\n",
              "    }\n",
              "\n",
              "    .dataframe tbody tr th {\n",
              "        vertical-align: top;\n",
              "    }\n",
              "\n",
              "    .dataframe thead th {\n",
              "        text-align: right;\n",
              "    }\n",
              "</style>\n",
              "<table border=\"1\" class=\"dataframe\">\n",
              "  <thead>\n",
              "    <tr style=\"text-align: right;\">\n",
              "      <th></th>\n",
              "      <th>volume_of_sales</th>\n",
              "      <th>year</th>\n",
              "    </tr>\n",
              "  </thead>\n",
              "  <tbody>\n",
              "    <tr>\n",
              "      <th>0</th>\n",
              "      <td>5830.0</td>\n",
              "      <td>1989.0</td>\n",
              "    </tr>\n",
              "    <tr>\n",
              "      <th>1</th>\n",
              "      <td>5337.3</td>\n",
              "      <td>1990.0</td>\n",
              "    </tr>\n",
              "    <tr>\n",
              "      <th>2</th>\n",
              "      <td>3597.0</td>\n",
              "      <td>1991.0</td>\n",
              "    </tr>\n",
              "  </tbody>\n",
              "</table>\n",
              "</div>"
            ],
            "text/plain": [
              "   volume_of_sales    year\n",
              "0           5830.0  1989.0\n",
              "1           5337.3  1990.0\n",
              "2           3597.0  1991.0"
            ]
          },
          "metadata": {
            "tags": []
          },
          "execution_count": 30
        }
      ]
    },
    {
      "cell_type": "markdown",
      "metadata": {
        "id": "j45OrhVgeIf7"
      },
      "source": [
        "### 29. Выбрать фамилии тех сотрудников, у которых суммарный доход (зарплата + комиссионные) больше 2000.\n"
      ]
    },
    {
      "cell_type": "code",
      "metadata": {
        "id": "fNnLKw3KeIf7",
        "colab": {
          "base_uri": "https://localhost:8080/",
          "height": 576
        },
        "outputId": "648cb797-fb24-4df0-cc3d-a0b720b43629"
      },
      "source": [
        "SELECT last_name\n",
        "FROM   employee\n",
        "WHERE salary + COALESCE(commission, 0)  > 2000\n"
      ],
      "execution_count": null,
      "outputs": [
        {
          "output_type": "execute_result",
          "data": {
            "text/html": [
              "<div>\n",
              "<style scoped>\n",
              "    .dataframe tbody tr th:only-of-type {\n",
              "        vertical-align: middle;\n",
              "    }\n",
              "\n",
              "    .dataframe tbody tr th {\n",
              "        vertical-align: top;\n",
              "    }\n",
              "\n",
              "    .dataframe thead th {\n",
              "        text-align: right;\n",
              "    }\n",
              "</style>\n",
              "<table border=\"1\" class=\"dataframe\">\n",
              "  <thead>\n",
              "    <tr style=\"text-align: right;\">\n",
              "      <th></th>\n",
              "      <th>last_name</th>\n",
              "    </tr>\n",
              "  </thead>\n",
              "  <tbody>\n",
              "    <tr>\n",
              "      <th>0</th>\n",
              "      <td>doyle</td>\n",
              "    </tr>\n",
              "    <tr>\n",
              "      <th>1</th>\n",
              "      <td>dennis</td>\n",
              "    </tr>\n",
              "    <tr>\n",
              "      <th>2</th>\n",
              "      <td>baker</td>\n",
              "    </tr>\n",
              "    <tr>\n",
              "      <th>3</th>\n",
              "      <td>shaw</td>\n",
              "    </tr>\n",
              "    <tr>\n",
              "      <th>4</th>\n",
              "      <td>jones</td>\n",
              "    </tr>\n",
              "    <tr>\n",
              "      <th>5</th>\n",
              "      <td>alberts</td>\n",
              "    </tr>\n",
              "    <tr>\n",
              "      <th>6</th>\n",
              "      <td>porter</td>\n",
              "    </tr>\n",
              "    <tr>\n",
              "      <th>7</th>\n",
              "      <td>martin</td>\n",
              "    </tr>\n",
              "    <tr>\n",
              "      <th>8</th>\n",
              "      <td>blake</td>\n",
              "    </tr>\n",
              "    <tr>\n",
              "      <th>9</th>\n",
              "      <td>clark</td>\n",
              "    </tr>\n",
              "    <tr>\n",
              "      <th>10</th>\n",
              "      <td>scott</td>\n",
              "    </tr>\n",
              "    <tr>\n",
              "      <th>11</th>\n",
              "      <td>west</td>\n",
              "    </tr>\n",
              "    <tr>\n",
              "      <th>12</th>\n",
              "      <td>fisher</td>\n",
              "    </tr>\n",
              "    <tr>\n",
              "      <th>13</th>\n",
              "      <td>ross</td>\n",
              "    </tr>\n",
              "    <tr>\n",
              "      <th>14</th>\n",
              "      <td>king</td>\n",
              "    </tr>\n",
              "    <tr>\n",
              "      <th>15</th>\n",
              "      <td>ford</td>\n",
              "    </tr>\n",
              "    <tr>\n",
              "      <th>16</th>\n",
              "      <td>roberts</td>\n",
              "    </tr>\n",
              "  </tbody>\n",
              "</table>\n",
              "</div>"
            ],
            "text/plain": [
              "   last_name\n",
              "0      doyle\n",
              "1     dennis\n",
              "2      baker\n",
              "3       shaw\n",
              "4      jones\n",
              "5    alberts\n",
              "6     porter\n",
              "7     martin\n",
              "8      blake\n",
              "9      clark\n",
              "10     scott\n",
              "11      west\n",
              "12    fisher\n",
              "13      ross\n",
              "14      king\n",
              "15      ford\n",
              "16   roberts"
            ]
          },
          "metadata": {
            "tags": []
          },
          "execution_count": 98
        }
      ]
    },
    {
      "cell_type": "markdown",
      "metadata": {
        "id": "LBIVf2OSeIf7"
      },
      "source": [
        "### 30. Выбрать названия товаров, для которых нынешняя цена увеличилась по сравнению с ценой на 15 декабря 1989г. более, чем на 15%."
      ]
    },
    {
      "cell_type": "code",
      "metadata": {
        "id": "zdjE9jy0eIf8",
        "colab": {
          "base_uri": "https://localhost:8080/",
          "height": 235
        },
        "outputId": "5007a4fa-a9fa-46ee-8ad1-c0127a012dd4"
      },
      "source": [
        "SELECT new.product_id,\n",
        "old.list_price as old_as_price,\n",
        "new.list_price as new_as_price,\n",
        "new.list_price/old.list_price*100-100 as percent,\n",
        "description\n",
        "FROM price old\n",
        "JOIN price new\n",
        "ON old.product_id = new.product_id\n",
        "JOIN product\n",
        "ON new.product_id = product.product_id\n",
        "WHERE new.end_date IS NULL AND ((old.start_date <= '1989-12-15' AND old.end_date > '1989-12-15') OR (old.start_date <= '1989-12-15' AND old.end_date IS NULL)) and new.list_price/old.list_price*100-100  > 15\n",
        "ORDER BY 1\n"
      ],
      "execution_count": null,
      "outputs": [
        {
          "output_type": "execute_result",
          "data": {
            "text/html": [
              "<div>\n",
              "<style scoped>\n",
              "    .dataframe tbody tr th:only-of-type {\n",
              "        vertical-align: middle;\n",
              "    }\n",
              "\n",
              "    .dataframe tbody tr th {\n",
              "        vertical-align: top;\n",
              "    }\n",
              "\n",
              "    .dataframe thead th {\n",
              "        text-align: right;\n",
              "    }\n",
              "</style>\n",
              "<table border=\"1\" class=\"dataframe\">\n",
              "  <thead>\n",
              "    <tr style=\"text-align: right;\">\n",
              "      <th></th>\n",
              "      <th>product_id</th>\n",
              "      <th>old_as_price</th>\n",
              "      <th>new_as_price</th>\n",
              "      <th>percent</th>\n",
              "      <th>description</th>\n",
              "    </tr>\n",
              "  </thead>\n",
              "  <tbody>\n",
              "    <tr>\n",
              "      <th>0</th>\n",
              "      <td>100860</td>\n",
              "      <td>30.0</td>\n",
              "      <td>35.0</td>\n",
              "      <td>16.666667</td>\n",
              "      <td>ace tennis racket i</td>\n",
              "    </tr>\n",
              "    <tr>\n",
              "      <th>1</th>\n",
              "      <td>100861</td>\n",
              "      <td>39.0</td>\n",
              "      <td>45.0</td>\n",
              "      <td>15.384615</td>\n",
              "      <td>ace tennis racket ii</td>\n",
              "    </tr>\n",
              "    <tr>\n",
              "      <th>2</th>\n",
              "      <td>104352</td>\n",
              "      <td>50.0</td>\n",
              "      <td>58.3</td>\n",
              "      <td>16.600000</td>\n",
              "      <td>dunk basketball professional</td>\n",
              "    </tr>\n",
              "    <tr>\n",
              "      <th>3</th>\n",
              "      <td>105124</td>\n",
              "      <td>10.0</td>\n",
              "      <td>15.0</td>\n",
              "      <td>50.000000</td>\n",
              "      <td>yellow jersey bicycle gloves</td>\n",
              "    </tr>\n",
              "    <tr>\n",
              "      <th>4</th>\n",
              "      <td>105125</td>\n",
              "      <td>2.0</td>\n",
              "      <td>3.0</td>\n",
              "      <td>50.000000</td>\n",
              "      <td>yellow jersey water bottle</td>\n",
              "    </tr>\n",
              "    <tr>\n",
              "      <th>5</th>\n",
              "      <td>105126</td>\n",
              "      <td>5.0</td>\n",
              "      <td>6.0</td>\n",
              "      <td>20.000000</td>\n",
              "      <td>yellow jersey bottle cage</td>\n",
              "    </tr>\n",
              "  </tbody>\n",
              "</table>\n",
              "</div>"
            ],
            "text/plain": [
              "   product_id  old_as_price  ...    percent                   description\n",
              "0      100860          30.0  ...  16.666667           ace tennis racket i\n",
              "1      100861          39.0  ...  15.384615          ace tennis racket ii\n",
              "2      104352          50.0  ...  16.600000  dunk basketball professional\n",
              "3      105124          10.0  ...  50.000000  yellow jersey bicycle gloves\n",
              "4      105125           2.0  ...  50.000000    yellow jersey water bottle\n",
              "5      105126           5.0  ...  20.000000     yellow jersey bottle cage\n",
              "\n",
              "[6 rows x 5 columns]"
            ]
          },
          "metadata": {
            "tags": []
          },
          "execution_count": 125
        }
      ]
    },
    {
      "cell_type": "markdown",
      "source": [
        "### 31. Выбрать только те месяцы, сумма продаж за которые превысила среднюю за год."
      ],
      "metadata": {
        "id": "pXjYgb6ELlY6"
      }
    },
    {
      "cell_type": "code",
      "source": [
        "with avg_totals as (\n",
        "  select\n",
        "    to_char (order_date, 'YYYY') as year,\n",
        "    avg(total) as avg_tot\n",
        "  from sales_order\n",
        "  group by year\n",
        "  order by year\n",
        "), totals AS (\n",
        "select\n",
        "  to_char (order_date, 'YYYY') as year_sal,\n",
        "  to_char (order_date, 'YYYY-MM') as month_sal,\n",
        "  total\n",
        "from sales_order\n",
        ")\n",
        "select\n",
        "  totals.month_sal as month,\n",
        "  max(totals.total) as total,\n",
        "  round(avg_totals.avg_tot, 2) as avg_total\n",
        "from totals\n",
        "  join avg_totals on avg_totals.year = totals.year_sal\n",
        "where totals.total >= avg_totals.avg_tot\n",
        "group by totals.month_sal, round(avg_totals.avg_tot, 2)\n",
        "order by month_sal;\n",
        "\n"
      ],
      "metadata": {
        "id": "JXaqV9qHI94o"
      },
      "execution_count": null,
      "outputs": []
    },
    {
      "cell_type": "markdown",
      "source": [
        "### 32. Вывести среднюю зарплату работников со \"стажем\" 37 лет"
      ],
      "metadata": {
        "id": "YIem2j4Xb9sm"
      }
    },
    {
      "cell_type": "code",
      "source": [
        "with experience as (\n",
        "select salary\n",
        "from employee\n",
        "where ((extract(year from current_timestamp)) - (extract(year from hire_date))) = 37\n",
        ")\n",
        "select avg(salary) from experience"
      ],
      "metadata": {
        "id": "dJST9m8xI92M"
      },
      "execution_count": null,
      "outputs": []
    },
    {
      "cell_type": "markdown",
      "source": [
        "### 33. Создать классификацию для товаров по степени задержки их отгрузки. Вывести те товары, которые были отгружены с задержкой. (Задержкой считается ситуация, когда между заказом и отгрузкой прошло более 10 дней)."
      ],
      "metadata": {
        "id": "70cGOZPP-LX5"
      }
    },
    {
      "cell_type": "code",
      "source": [
        "WITH delay AS (\n",
        "  SELECT\n",
        "    order_id,\n",
        "    order_date,\n",
        "\tship_date,\n",
        "    (CASE\n",
        "        WHEN (extract(day from ship_date)) - (extract(day from order_date)) > 10 THEN 'Отгружено с задержкой'\n",
        "        WHEN (extract(day from ship_date)) - (extract(day from order_date)) <= 10 THEN 'Отгружено без задержки'\n",
        "     END) as class\n",
        "  FROM\n",
        "    sales_order\n",
        ")\n",
        "SELECT\n",
        "    delay.order_id,\n",
        "\tproduct.description,\n",
        "    delay.order_date,\n",
        "\tdelay.ship_date,\n",
        "    delay.class\n",
        "    FROM\n",
        "        delay\n",
        "\tJOIN item\n",
        "\ton item.order_id = delay.order_id\n",
        "\tJOIN product\n",
        "\tON product.product_id = item.product_id\n",
        "    WHERE\n",
        "        class = 'Отгружено с задержкой';"
      ],
      "metadata": {
        "id": "85iE0pDo-PUN"
      },
      "execution_count": null,
      "outputs": []
    },
    {
      "cell_type": "markdown",
      "source": [
        "### 34. Посчитать максимальную зарплату по каждому отделу. Также посчитать пропорцию зарплат в отделе относительно суммы всех зарплат в этом отделе, а также относительно всего фонда оплаты труда. (Использовать оконные функции)"
      ],
      "metadata": {
        "id": "yGj9fee1CeUY"
      }
    },
    {
      "cell_type": "code",
      "source": [
        "SELECT\n",
        "    employee.first_name,\n",
        "    employee.last_name,\n",
        "    department.name as department_name,\n",
        "    employee.salary,\n",
        "    MAX(salary) OVER (PARTITION BY department.name) as max_salary,\n",
        "\t  ROUND(CAST(employee.salary AS numeric(9,2)) / SUM(employee.salary) OVER (PARTITION BY department.name) * 100, 2) as dep_ratio,\n",
        "    ROUND(CAST(employee.salary AS numeric(9,2)) / SUM(employee.salary) OVER () * 100, 2) as total_ratio\n",
        "FROM employee\n",
        "JOIN department\n",
        "ON department.department_id = employee.department_id;"
      ],
      "metadata": {
        "id": "3VqdGGJnCjrv"
      },
      "execution_count": null,
      "outputs": []
    },
    {
      "cell_type": "markdown",
      "source": [
        "### 35. Вывести ранжирование зарплат по каждому отделу. (Посчитать ранги с пропуском и без)."
      ],
      "metadata": {
        "id": "ktOy2TcIbqDS"
      }
    },
    {
      "cell_type": "code",
      "source": [
        "SELECT\n",
        "    employee.first_name,\n",
        "    employee.last_name,\n",
        "    department.name as department_name,\n",
        "    employee.salary,\n",
        "\tRANK() OVER (PARTITION BY department.name order by salary desc) as rank,\n",
        "\tDENSE_RANK() OVER (PARTITION BY department.name order by salary desc) as dense_rank\n",
        "FROM employee\n",
        "JOIN department\n",
        "ON department.department_id = employee.department_id;"
      ],
      "metadata": {
        "id": "JgGHA5rRKajs"
      },
      "execution_count": null,
      "outputs": []
    },
    {
      "cell_type": "markdown",
      "source": [
        "### 36. Вывести информацию по заказу с ID = 601, использовав хранимую функцию."
      ],
      "metadata": {
        "id": "YA6hqOWywFaR"
      }
    },
    {
      "cell_type": "code",
      "source": [
        "CREATE function id_orders (arg int)\n",
        "returns sales_order\n",
        "LANGUAGE sql AS\n",
        "$$\n",
        "    SELECT *\n",
        "    FROM sales_order\n",
        "    WHERE order_id = arg;\n",
        "$$ ;\n",
        "\n",
        "select * from id_orders(601)\n"
      ],
      "metadata": {
        "id": "M53WU8ERwQRq"
      },
      "execution_count": null,
      "outputs": []
    },
    {
      "cell_type": "markdown",
      "source": [
        "### 37. Добавить новое значение в таблицу Product, использовав хранимую процедуру."
      ],
      "metadata": {
        "id": "B4V7Hr0p0FgZ"
      }
    },
    {
      "cell_type": "code",
      "source": [
        "CREATE PROCEDURE Addprod (\n",
        "\tprod_id int,\n",
        "\tdesc_prod varchar(100)\n",
        ")\n",
        "LANGUAGE plpgsql AS\n",
        "$$\n",
        "BEGIN\n",
        "\tINSERT INTO product (product_id, description) VALUES\n",
        "\t(prod_id,\n",
        "\tdesc_prod\n",
        "    );\n",
        "END\n",
        "$$;\n",
        "\n",
        "CALL Addprod (200174, 'bandage');"
      ],
      "metadata": {
        "id": "VFse0a9516PW"
      },
      "execution_count": null,
      "outputs": []
    }
  ]
}